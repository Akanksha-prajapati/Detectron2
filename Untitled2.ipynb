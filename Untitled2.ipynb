{
  "nbformat": 4,
  "nbformat_minor": 0,
  "metadata": {
    "colab": {
      "provenance": [],
      "authorship_tag": "ABX9TyN7gzpsZ058eRqi367Rygz/",
      "include_colab_link": true
    },
    "kernelspec": {
      "name": "python3",
      "display_name": "Python 3"
    },
    "language_info": {
      "name": "python"
    }
  },
  "cells": [
    {
      "cell_type": "markdown",
      "metadata": {
        "id": "view-in-github",
        "colab_type": "text"
      },
      "source": [
        "<a href=\"https://colab.research.google.com/github/Akanksha-prajapati/Detectron2/blob/main/Untitled2.ipynb\" target=\"_parent\"><img src=\"https://colab.research.google.com/assets/colab-badge.svg\" alt=\"Open In Colab\"/></a>"
      ]
    },
    {
      "cell_type": "code",
      "source": [
        "#How do you perform inference with Detectron2 using an online image?\n",
        "\n",
        "import requests\n",
        "from detectron2.engine import DefaultPredictor\n",
        "from detectron2.config import get_cfg\n",
        "from detectron2 import model_zoo\n",
        "from detectron2.utils.visualizer import Visualizer\n",
        "from detectron2.data import MetadataCatalog\n",
        "from PIL import Image\n",
        "from io import BytesIO\n",
        "\n",
        "# Load image from URL\n",
        "url = \"https://example.com/image.jpg\"\n",
        "response = requests.get(url)\n",
        "img = Image.open(BytesIO(response.content))\n",
        "\n",
        "# Prepare config\n",
        "cfg = get_cfg()\n",
        "cfg.merge_from_file(model_zoo.get_config_file(\"COCO-Detection/faster_rcnn_R_50_FPN_3x.yaml\"))\n",
        "cfg.MODEL.WEIGHTS = model_zoo.get_checkpoint_url(\"COCO-Detection/faster_rcnn_R_50_FPN_3x.yaml\")\n",
        "predictor = DefaultPredictor(cfg)\n",
        "\n",
        "# Inference\n",
        "img = np.array(img)\n",
        "outputs = predictor(img)\n",
        "\n",
        "# Visualize the result\n",
        "v = Visualizer(img[:, :, ::-1], MetadataCatalog.get(cfg.DATASETS.TRAIN[0]), scale=1.2)\n",
        "v = v.draw_instance_predictions(outputs[\"instances\"].to(\"cpu\"))\n",
        "result_img = v.get_image()[:, :, ::-1]\n",
        "Image.fromarray(result_img).show()\n"
      ],
      "metadata": {
        "id": "kXrJtw8c8DnJ"
      },
      "execution_count": null,
      "outputs": []
    },
    {
      "cell_type": "code",
      "source": [
        "#How do you visualize evaluation metrics in Detectron2, such as training loss?\n",
        "\n",
        "tensorboard --logdir=path/to/log/folder\n"
      ],
      "metadata": {
        "id": "M8kj_Aiq8VfJ"
      },
      "execution_count": null,
      "outputs": []
    },
    {
      "cell_type": "code",
      "source": [
        "#How do you run inference with TFOD2 on an online image?\n",
        "\n",
        "import tensorflow as tf\n",
        "import numpy as np\n",
        "import requests\n",
        "from PIL import Image\n",
        "from io import BytesIO\n",
        "import matplotlib.pyplot as plt\n",
        "\n",
        "# Load the pre-trained model\n",
        "model = tf.saved_model.load(\"saved_model\")\n",
        "\n",
        "# Load image from URL\n",
        "url = \"https://example.com/image.jpg\"\n",
        "response = requests.get(url)\n",
        "img = Image.open(BytesIO(response.content))\n",
        "img_np = np.array(img)\n",
        "\n",
        "# Preprocess the image\n",
        "input_tensor = tf.convert_to_tensor(img_np)\n",
        "input_tensor = input_tensor[tf.newaxis,...]\n",
        "\n",
        "# Run inference\n",
        "detections = model(input_tensor)\n",
        "\n",
        "# Visualize results\n",
        "plt.imshow(img)\n",
        "plt.show()\n",
        "\n"
      ],
      "metadata": {
        "id": "TQFRL0-f8fe-"
      },
      "execution_count": null,
      "outputs": []
    },
    {
      "cell_type": "code",
      "source": [
        "#How do you install TensorFlow Object Detection API in Jupyter Notebook?\n",
        "\n",
        "!pip install tensorflow\n",
        "!pip install tf-slim\n",
        "!pip install tensorflow-object-detection-api\n"
      ],
      "metadata": {
        "id": "wzuM7hUT8v8Q"
      },
      "execution_count": null,
      "outputs": []
    },
    {
      "cell_type": "code",
      "source": [
        "#How can you load a pre-trained TensorFlow Object Detection model?\n",
        "\n",
        "import tensorflow as tf\n",
        "\n",
        "# Load the pre-trained model\n",
        "model = tf.saved_model.load(\"saved_model\")\n"
      ],
      "metadata": {
        "id": "hWvAf8HS85ok"
      },
      "execution_count": null,
      "outputs": []
    },
    {
      "cell_type": "code",
      "source": [
        "#How do you preprocess an image from the web for TFOD2 inference?\n",
        "\n",
        "import requests\n",
        "import numpy as np\n",
        "from PIL import Image\n",
        "\n",
        "# Load image from URL\n",
        "url = \"https://example.com/image.jpg\"\n",
        "response = requests.get(url)\n",
        "img = Image.open(BytesIO(response.content))\n",
        "\n",
        "# Convert to numpy array\n",
        "img_np = np.array(img)\n",
        "\n",
        "# Preprocess image (e.g., resizing)\n",
        "img_resized = tf.image.resize(img_np, (300, 300))\n"
      ],
      "metadata": {
        "id": "olPLMGNb9Q2s"
      },
      "execution_count": null,
      "outputs": []
    },
    {
      "cell_type": "code",
      "source": [
        "#How do you visualize bounding boxes for detected objects in TFOD2 inference?\n",
        "\n",
        "import matplotlib.pyplot as plt\n",
        "\n",
        "def visualize_boxes(image, boxes, class_ids, class_names, scores):\n",
        "    plt.imshow(image)\n",
        "    ax = plt.gca()\n",
        "    for box, class_id, score in zip(boxes, class_ids, scores):\n",
        "        ymin, xmin, ymax, xmax = box\n",
        "        ax.add_patch(plt.Rectangle((xmin, ymin), xmax - xmin, ymax - ymin,\n",
        "                                   linewidth=2, edgecolor='r', facecolor='none'))\n",
        "        ax.text(xmin, ymin, f\"{class_names[class_id]}: {score:.2f}\",\n",
        "                bbox=dict(facecolor='yellow', alpha=0.5), fontsize=10)\n",
        "    plt.show()\n",
        "\n",
        "# Example call\n",
        "visualize_boxes(image, boxes, class_ids, class_names, scores)\n",
        "\n"
      ],
      "metadata": {
        "id": "F5KP8rf_9g-p"
      },
      "execution_count": null,
      "outputs": []
    },
    {
      "cell_type": "code",
      "source": [
        "#How do you define classes for custom training in TFOD2?\n",
        "\n",
        "label_map = {\n",
        "    'class_name_1': 1,\n",
        "    'class_name_2': 2,\n",
        "    # Add more custom classes here\n",
        "}\n",
        "\n",
        "# During training, make sure to associate your class names to their respective IDs in the dataset configuration\n"
      ],
      "metadata": {
        "id": "naSXHIuU9rOY"
      },
      "execution_count": null,
      "outputs": []
    },
    {
      "cell_type": "code",
      "source": [
        "#How do you resize an image before detecting objects?\n",
        "\n",
        "import tensorflow as tf\n",
        "\n",
        "def resize_image(image, target_size=(300, 300)):\n",
        "    return tf.image.resize(image, target_size)\n",
        "\n",
        "# Example usage\n",
        "resized_image = resize_image(img_np)\n",
        "\n"
      ],
      "metadata": {
        "id": "a7G-DZem90h6"
      },
      "execution_count": null,
      "outputs": []
    },
    {
      "cell_type": "code",
      "source": [
        "#How can you apply a color filter (e.g., red filter) to an image?\n",
        "\n",
        "import numpy as np\n",
        "from PIL import Image\n",
        "\n",
        "def apply_red_filter(image):\n",
        "    image_np = np.array(image)\n",
        "    # Apply red filter by setting green and blue channels to 0\n",
        "    image_np[:, :, 1:] = 0\n",
        "    return Image.fromarray(image_np)\n",
        "\n",
        "# Example usage\n",
        "img_with_red_filter = apply_red_filter(img)\n",
        "img_with_red_filter.show()\n"
      ],
      "metadata": {
        "id": "nAklBnOM9_7m"
      },
      "execution_count": null,
      "outputs": []
    }
  ]
}